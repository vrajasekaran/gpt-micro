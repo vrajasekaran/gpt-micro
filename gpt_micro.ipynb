{
  "nbformat": 4,
  "nbformat_minor": 0,
  "metadata": {
    "colab": {
      "provenance": [],
      "mount_file_id": "1fHbJy6EUBG3xbsHob06k5kKJk823RYGU",
      "authorship_tag": "ABX9TyNW9kE3j9E+WPuww5zg5WHG",
      "include_colab_link": true
    },
    "kernelspec": {
      "name": "python3",
      "display_name": "Python 3"
    },
    "language_info": {
      "name": "python"
    }
  },
  "cells": [
    {
      "cell_type": "markdown",
      "metadata": {
        "id": "view-in-github",
        "colab_type": "text"
      },
      "source": [
        "<a href=\"https://colab.research.google.com/github/vrajasekaran/gpt-micro/blob/main/gpt_micro.ipynb\" target=\"_parent\"><img src=\"https://colab.research.google.com/assets/colab-badge.svg\" alt=\"Open In Colab\"/></a>"
      ]
    },
    {
      "cell_type": "code",
      "execution_count": null,
      "metadata": {
        "colab": {
          "base_uri": "https://localhost:8080/"
        },
        "id": "iNJ7Qfvr2Wod",
        "outputId": "bd11cdad-50d9-4813-ae22-365fe885c0c7"
      },
      "outputs": [
        {
          "output_type": "stream",
          "name": "stdout",
          "text": [
            "--2025-07-31 14:31:23--  https://raw.githubusercontent.com/karpathy/char-rnn/master/data/tinyshakespeare/input.txt\n",
            "Resolving raw.githubusercontent.com (raw.githubusercontent.com)... 185.199.108.133, 185.199.109.133, 185.199.110.133, ...\n",
            "Connecting to raw.githubusercontent.com (raw.githubusercontent.com)|185.199.108.133|:443... connected.\n",
            "HTTP request sent, awaiting response... 200 OK\n",
            "Length: 1115394 (1.1M) [text/plain]\n",
            "Saving to: ‘input.txt’\n",
            "\n",
            "input.txt           100%[===================>]   1.06M  --.-KB/s    in 0.06s   \n",
            "\n",
            "2025-07-31 14:31:23 (16.9 MB/s) - ‘input.txt’ saved [1115394/1115394]\n",
            "\n"
          ]
        }
      ],
      "source": [
        "!wget https://raw.githubusercontent.com/karpathy/char-rnn/master/data/tinyshakespeare/input.txt"
      ]
    },
    {
      "cell_type": "code",
      "source": [
        "with open('input.txt', 'r', encoding='utf-8') as inputFile:\n",
        "  inputText = inputFile.read()"
      ],
      "metadata": {
        "id": "aToDj9XZ5SsP"
      },
      "execution_count": null,
      "outputs": []
    },
    {
      "cell_type": "code",
      "source": [
        "print('input characters length:', len(inputText))\n",
        "print('First 1000 chars:', inputText[0:1000])"
      ],
      "metadata": {
        "colab": {
          "base_uri": "https://localhost:8080/"
        },
        "id": "ZHVAxz6C5qZg",
        "outputId": "a9962e88-961a-4124-811e-24f5b229603d"
      },
      "execution_count": null,
      "outputs": [
        {
          "output_type": "stream",
          "name": "stdout",
          "text": [
            "input characters length: 1115394\n",
            "First 1000 chars: First Citizen:\n",
            "Before we proceed any further, hear me speak.\n",
            "\n",
            "All:\n",
            "Speak, speak.\n",
            "\n",
            "First Citizen:\n",
            "You are all resolved rather to die than to famish?\n",
            "\n",
            "All:\n",
            "Resolved. resolved.\n",
            "\n",
            "First Citizen:\n",
            "First, you know Caius Marcius is chief enemy to the people.\n",
            "\n",
            "All:\n",
            "We know't, we know't.\n",
            "\n",
            "First Citizen:\n",
            "Let us kill him, and we'll have corn at our own price.\n",
            "Is't a verdict?\n",
            "\n",
            "All:\n",
            "No more talking on't; let it be done: away, away!\n",
            "\n",
            "Second Citizen:\n",
            "One word, good citizens.\n",
            "\n",
            "First Citizen:\n",
            "We are accounted poor citizens, the patricians good.\n",
            "What authority surfeits on would relieve us: if they\n",
            "would yield us but the superfluity, while it were\n",
            "wholesome, we might guess they relieved us humanely;\n",
            "but they think we are too dear: the leanness that\n",
            "afflicts us, the object of our misery, is as an\n",
            "inventory to particularise their abundance; our\n",
            "sufferance is a gain to them Let us revenge this with\n",
            "our pikes, ere we become rakes: for the gods know I\n",
            "speak this in hunger for bread, not in thirst for revenge.\n",
            "\n",
            "\n"
          ]
        }
      ]
    },
    {
      "cell_type": "code",
      "source": [
        "#Build the vocabulary\n",
        "vocabChars = sorted(list(set(inputText)))\n",
        "print(''.join(vocabChars))\n",
        "vocabSize = len(vocabChars)\n",
        "print('vocab size:', vocabSize)\n"
      ],
      "metadata": {
        "colab": {
          "base_uri": "https://localhost:8080/"
        },
        "id": "KUxXSVlf50YK",
        "outputId": "c3445f0f-d860-4e14-d98a-08cd4e09cded"
      },
      "execution_count": null,
      "outputs": [
        {
          "output_type": "stream",
          "name": "stdout",
          "text": [
            "\n",
            " !$&',-.3:;?ABCDEFGHIJKLMNOPQRSTUVWXYZabcdefghijklmnopqrstuvwxyz\n",
            "vocab size: 65\n"
          ]
        }
      ]
    },
    {
      "cell_type": "code",
      "source": [
        "#Simple encode/decode\n",
        "stringToEncode = 'My GPT works!'\n",
        "\n",
        "stringToInteger = { ch:i for i,ch in enumerate(vocabChars) }\n",
        "print(stringToInteger)\n",
        "print('String to Encode:', stringToEncode)\n",
        "encoder = lambda s: [stringToInteger[ch] for ch in s]\n",
        "print(encoder(stringToEncode))"
      ],
      "metadata": {
        "colab": {
          "base_uri": "https://localhost:8080/"
        },
        "id": "Uzm-KB876fYB",
        "outputId": "ac38f12b-f3f1-493f-d35c-36ca12df5b1d"
      },
      "execution_count": null,
      "outputs": [
        {
          "output_type": "stream",
          "name": "stdout",
          "text": [
            "{'\\n': 0, ' ': 1, '!': 2, '$': 3, '&': 4, \"'\": 5, ',': 6, '-': 7, '.': 8, '3': 9, ':': 10, ';': 11, '?': 12, 'A': 13, 'B': 14, 'C': 15, 'D': 16, 'E': 17, 'F': 18, 'G': 19, 'H': 20, 'I': 21, 'J': 22, 'K': 23, 'L': 24, 'M': 25, 'N': 26, 'O': 27, 'P': 28, 'Q': 29, 'R': 30, 'S': 31, 'T': 32, 'U': 33, 'V': 34, 'W': 35, 'X': 36, 'Y': 37, 'Z': 38, 'a': 39, 'b': 40, 'c': 41, 'd': 42, 'e': 43, 'f': 44, 'g': 45, 'h': 46, 'i': 47, 'j': 48, 'k': 49, 'l': 50, 'm': 51, 'n': 52, 'o': 53, 'p': 54, 'q': 55, 'r': 56, 's': 57, 't': 58, 'u': 59, 'v': 60, 'w': 61, 'x': 62, 'y': 63, 'z': 64}\n",
            "String to Encode: My GPT works!\n",
            "[25, 63, 1, 19, 28, 32, 1, 61, 53, 56, 49, 57, 2]\n"
          ]
        }
      ]
    },
    {
      "cell_type": "code",
      "source": [
        "integerToString = { i:ch for i,ch in enumerate(vocabChars)}\n",
        "print(integerToString)\n",
        "decoder = lambda l: ''.join([integerToString[i] for i in l])\n",
        "print(decoder(encoder(stringToEncode)))"
      ],
      "metadata": {
        "colab": {
          "base_uri": "https://localhost:8080/"
        },
        "id": "IBc2dZ9A7HYA",
        "outputId": "a8df5dde-9169-485a-fffe-88104da715c9"
      },
      "execution_count": null,
      "outputs": [
        {
          "output_type": "stream",
          "name": "stdout",
          "text": [
            "{0: '\\n', 1: ' ', 2: '!', 3: '$', 4: '&', 5: \"'\", 6: ',', 7: '-', 8: '.', 9: '3', 10: ':', 11: ';', 12: '?', 13: 'A', 14: 'B', 15: 'C', 16: 'D', 17: 'E', 18: 'F', 19: 'G', 20: 'H', 21: 'I', 22: 'J', 23: 'K', 24: 'L', 25: 'M', 26: 'N', 27: 'O', 28: 'P', 29: 'Q', 30: 'R', 31: 'S', 32: 'T', 33: 'U', 34: 'V', 35: 'W', 36: 'X', 37: 'Y', 38: 'Z', 39: 'a', 40: 'b', 41: 'c', 42: 'd', 43: 'e', 44: 'f', 45: 'g', 46: 'h', 47: 'i', 48: 'j', 49: 'k', 50: 'l', 51: 'm', 52: 'n', 53: 'o', 54: 'p', 55: 'q', 56: 'r', 57: 's', 58: 't', 59: 'u', 60: 'v', 61: 'w', 62: 'x', 63: 'y', 64: 'z'}\n",
            "My GPT works!\n"
          ]
        }
      ]
    },
    {
      "cell_type": "code",
      "source": [
        "#ENcode the entire data\n",
        "import torch\n",
        "data = torch.tensor(encoder(inputText), dtype=torch.long)\n",
        "print(data.shape, data.dtype)\n",
        "print(data[:1000])"
      ],
      "metadata": {
        "colab": {
          "base_uri": "https://localhost:8080/"
        },
        "id": "2MbJ9SO1-J0r",
        "outputId": "373d7191-6362-4f18-9085-27ad92a0ff2e"
      },
      "execution_count": null,
      "outputs": [
        {
          "output_type": "stream",
          "name": "stdout",
          "text": [
            "torch.Size([1115394]) torch.int64\n",
            "tensor([18, 47, 56, 57, 58,  1, 15, 47, 58, 47, 64, 43, 52, 10,  0, 14, 43, 44,\n",
            "        53, 56, 43,  1, 61, 43,  1, 54, 56, 53, 41, 43, 43, 42,  1, 39, 52, 63,\n",
            "         1, 44, 59, 56, 58, 46, 43, 56,  6,  1, 46, 43, 39, 56,  1, 51, 43,  1,\n",
            "        57, 54, 43, 39, 49,  8,  0,  0, 13, 50, 50, 10,  0, 31, 54, 43, 39, 49,\n",
            "         6,  1, 57, 54, 43, 39, 49,  8,  0,  0, 18, 47, 56, 57, 58,  1, 15, 47,\n",
            "        58, 47, 64, 43, 52, 10,  0, 37, 53, 59,  1, 39, 56, 43,  1, 39, 50, 50,\n",
            "         1, 56, 43, 57, 53, 50, 60, 43, 42,  1, 56, 39, 58, 46, 43, 56,  1, 58,\n",
            "        53,  1, 42, 47, 43,  1, 58, 46, 39, 52,  1, 58, 53,  1, 44, 39, 51, 47,\n",
            "        57, 46, 12,  0,  0, 13, 50, 50, 10,  0, 30, 43, 57, 53, 50, 60, 43, 42,\n",
            "         8,  1, 56, 43, 57, 53, 50, 60, 43, 42,  8,  0,  0, 18, 47, 56, 57, 58,\n",
            "         1, 15, 47, 58, 47, 64, 43, 52, 10,  0, 18, 47, 56, 57, 58,  6,  1, 63,\n",
            "        53, 59,  1, 49, 52, 53, 61,  1, 15, 39, 47, 59, 57,  1, 25, 39, 56, 41,\n",
            "        47, 59, 57,  1, 47, 57,  1, 41, 46, 47, 43, 44,  1, 43, 52, 43, 51, 63,\n",
            "         1, 58, 53,  1, 58, 46, 43,  1, 54, 43, 53, 54, 50, 43,  8,  0,  0, 13,\n",
            "        50, 50, 10,  0, 35, 43,  1, 49, 52, 53, 61,  5, 58,  6,  1, 61, 43,  1,\n",
            "        49, 52, 53, 61,  5, 58,  8,  0,  0, 18, 47, 56, 57, 58,  1, 15, 47, 58,\n",
            "        47, 64, 43, 52, 10,  0, 24, 43, 58,  1, 59, 57,  1, 49, 47, 50, 50,  1,\n",
            "        46, 47, 51,  6,  1, 39, 52, 42,  1, 61, 43,  5, 50, 50,  1, 46, 39, 60,\n",
            "        43,  1, 41, 53, 56, 52,  1, 39, 58,  1, 53, 59, 56,  1, 53, 61, 52,  1,\n",
            "        54, 56, 47, 41, 43,  8,  0, 21, 57,  5, 58,  1, 39,  1, 60, 43, 56, 42,\n",
            "        47, 41, 58, 12,  0,  0, 13, 50, 50, 10,  0, 26, 53,  1, 51, 53, 56, 43,\n",
            "         1, 58, 39, 50, 49, 47, 52, 45,  1, 53, 52,  5, 58, 11,  1, 50, 43, 58,\n",
            "         1, 47, 58,  1, 40, 43,  1, 42, 53, 52, 43, 10,  1, 39, 61, 39, 63,  6,\n",
            "         1, 39, 61, 39, 63,  2,  0,  0, 31, 43, 41, 53, 52, 42,  1, 15, 47, 58,\n",
            "        47, 64, 43, 52, 10,  0, 27, 52, 43,  1, 61, 53, 56, 42,  6,  1, 45, 53,\n",
            "        53, 42,  1, 41, 47, 58, 47, 64, 43, 52, 57,  8,  0,  0, 18, 47, 56, 57,\n",
            "        58,  1, 15, 47, 58, 47, 64, 43, 52, 10,  0, 35, 43,  1, 39, 56, 43,  1,\n",
            "        39, 41, 41, 53, 59, 52, 58, 43, 42,  1, 54, 53, 53, 56,  1, 41, 47, 58,\n",
            "        47, 64, 43, 52, 57,  6,  1, 58, 46, 43,  1, 54, 39, 58, 56, 47, 41, 47,\n",
            "        39, 52, 57,  1, 45, 53, 53, 42,  8,  0, 35, 46, 39, 58,  1, 39, 59, 58,\n",
            "        46, 53, 56, 47, 58, 63,  1, 57, 59, 56, 44, 43, 47, 58, 57,  1, 53, 52,\n",
            "         1, 61, 53, 59, 50, 42,  1, 56, 43, 50, 47, 43, 60, 43,  1, 59, 57, 10,\n",
            "         1, 47, 44,  1, 58, 46, 43, 63,  0, 61, 53, 59, 50, 42,  1, 63, 47, 43,\n",
            "        50, 42,  1, 59, 57,  1, 40, 59, 58,  1, 58, 46, 43,  1, 57, 59, 54, 43,\n",
            "        56, 44, 50, 59, 47, 58, 63,  6,  1, 61, 46, 47, 50, 43,  1, 47, 58,  1,\n",
            "        61, 43, 56, 43,  0, 61, 46, 53, 50, 43, 57, 53, 51, 43,  6,  1, 61, 43,\n",
            "         1, 51, 47, 45, 46, 58,  1, 45, 59, 43, 57, 57,  1, 58, 46, 43, 63,  1,\n",
            "        56, 43, 50, 47, 43, 60, 43, 42,  1, 59, 57,  1, 46, 59, 51, 39, 52, 43,\n",
            "        50, 63, 11,  0, 40, 59, 58,  1, 58, 46, 43, 63,  1, 58, 46, 47, 52, 49,\n",
            "         1, 61, 43,  1, 39, 56, 43,  1, 58, 53, 53,  1, 42, 43, 39, 56, 10,  1,\n",
            "        58, 46, 43,  1, 50, 43, 39, 52, 52, 43, 57, 57,  1, 58, 46, 39, 58,  0,\n",
            "        39, 44, 44, 50, 47, 41, 58, 57,  1, 59, 57,  6,  1, 58, 46, 43,  1, 53,\n",
            "        40, 48, 43, 41, 58,  1, 53, 44,  1, 53, 59, 56,  1, 51, 47, 57, 43, 56,\n",
            "        63,  6,  1, 47, 57,  1, 39, 57,  1, 39, 52,  0, 47, 52, 60, 43, 52, 58,\n",
            "        53, 56, 63,  1, 58, 53,  1, 54, 39, 56, 58, 47, 41, 59, 50, 39, 56, 47,\n",
            "        57, 43,  1, 58, 46, 43, 47, 56,  1, 39, 40, 59, 52, 42, 39, 52, 41, 43,\n",
            "        11,  1, 53, 59, 56,  0, 57, 59, 44, 44, 43, 56, 39, 52, 41, 43,  1, 47,\n",
            "        57,  1, 39,  1, 45, 39, 47, 52,  1, 58, 53,  1, 58, 46, 43, 51,  1, 24,\n",
            "        43, 58,  1, 59, 57,  1, 56, 43, 60, 43, 52, 45, 43,  1, 58, 46, 47, 57,\n",
            "         1, 61, 47, 58, 46,  0, 53, 59, 56,  1, 54, 47, 49, 43, 57,  6,  1, 43,\n",
            "        56, 43,  1, 61, 43,  1, 40, 43, 41, 53, 51, 43,  1, 56, 39, 49, 43, 57,\n",
            "        10,  1, 44, 53, 56,  1, 58, 46, 43,  1, 45, 53, 42, 57,  1, 49, 52, 53,\n",
            "        61,  1, 21,  0, 57, 54, 43, 39, 49,  1, 58, 46, 47, 57,  1, 47, 52,  1,\n",
            "        46, 59, 52, 45, 43, 56,  1, 44, 53, 56,  1, 40, 56, 43, 39, 42,  6,  1,\n",
            "        52, 53, 58,  1, 47, 52,  1, 58, 46, 47, 56, 57, 58,  1, 44, 53, 56,  1,\n",
            "        56, 43, 60, 43, 52, 45, 43,  8,  0,  0])\n"
          ]
        }
      ]
    },
    {
      "cell_type": "code",
      "source": [
        "# Split Training and Validation datasets\n",
        "n = int(0.9*len(data)) #90% for Training\n",
        "train_data = data[:n]\n",
        "validation_data = data[n:]"
      ],
      "metadata": {
        "id": "LVOyf-yWK7zG"
      },
      "execution_count": null,
      "outputs": []
    },
    {
      "cell_type": "code",
      "source": [
        "block_size = 8\n",
        "train_data[:block_size+1]"
      ],
      "metadata": {
        "colab": {
          "base_uri": "https://localhost:8080/"
        },
        "id": "5Z6WuARiLkGm",
        "outputId": "77a0040f-5760-4f20-d54f-a1c0bd9ca980"
      },
      "execution_count": null,
      "outputs": [
        {
          "output_type": "execute_result",
          "data": {
            "text/plain": [
              "tensor([18, 47, 56, 57, 58,  1, 15, 47, 58])"
            ]
          },
          "metadata": {},
          "execution_count": 34
        }
      ]
    },
    {
      "cell_type": "code",
      "source": [
        "x = train_data[:block_size]\n",
        "print('x:', x)\n",
        "decoded_x = decoder(x.tolist())\n",
        "print(f'Decoded x: {decoded_x}')\n",
        "\n",
        "y = train_data[1:block_size+1]\n",
        "print('y:', y)\n",
        "decoded_y = decoder(y.tolist())\n",
        "print(f'Decoded y: {decoded_y}')\n",
        "\n",
        "for t in range(block_size):\n",
        "  context = x[:t+1]\n",
        "  target = y[t]\n",
        "  print(f'when input is {context} the target: {target}')\n",
        "  print(f'when input is {decoder(context.tolist())} the target: {decoder([target.item()])}')"
      ],
      "metadata": {
        "colab": {
          "base_uri": "https://localhost:8080/"
        },
        "id": "elqiJRCRL01d",
        "outputId": "7b5a6088-a09f-4191-c63c-70e32b5412f3"
      },
      "execution_count": null,
      "outputs": [
        {
          "output_type": "stream",
          "name": "stdout",
          "text": [
            "x: tensor([18, 47, 56, 57, 58,  1, 15, 47])\n",
            "Decoded x: First Ci\n",
            "y: tensor([47, 56, 57, 58,  1, 15, 47, 58])\n",
            "Decoded y: irst Cit\n",
            "when input is tensor([18]) the target: 47\n",
            "when input is F the target: i\n",
            "when input is tensor([18, 47]) the target: 56\n",
            "when input is Fi the target: r\n",
            "when input is tensor([18, 47, 56]) the target: 57\n",
            "when input is Fir the target: s\n",
            "when input is tensor([18, 47, 56, 57]) the target: 58\n",
            "when input is Firs the target: t\n",
            "when input is tensor([18, 47, 56, 57, 58]) the target: 1\n",
            "when input is First the target:  \n",
            "when input is tensor([18, 47, 56, 57, 58,  1]) the target: 15\n",
            "when input is First  the target: C\n",
            "when input is tensor([18, 47, 56, 57, 58,  1, 15]) the target: 47\n",
            "when input is First C the target: i\n",
            "when input is tensor([18, 47, 56, 57, 58,  1, 15, 47]) the target: 58\n",
            "when input is First Ci the target: t\n"
          ]
        }
      ]
    },
    {
      "cell_type": "code",
      "source": [
        "torch.manual_seed(1337)\n",
        "\n",
        "batch_size = 4\n",
        "block_size = 8\n",
        "\n",
        "def get_batch(split):\n",
        "  data = train_data if split == 'train' else validation_data\n",
        "  ix = torch.randint(len(data) - block_size, (batch_size,))\n",
        "  x = torch.stack([data[i:i+block_size] for i in ix])\n",
        "  y = torch.stack([data[i+1:i+block_size+1] for i in ix])\n",
        "  return x, y\n",
        "\n",
        "xb, yb = get_batch('train')\n",
        "print('inputs:', xb.shape, xb)\n",
        "\n",
        "for i in range(batch_size):\n",
        "    print(f'input {i} is {decoder(xb[i].tolist())}')\n",
        "\n",
        "#print(xb)\n",
        "print('targets:', yb.shape)\n",
        "for i in range(batch_size):\n",
        "    print(f'input {i} is {decoder(yb[i].tolist())}')\n"
      ],
      "metadata": {
        "colab": {
          "base_uri": "https://localhost:8080/"
        },
        "id": "g0qAk0-_PVya",
        "outputId": "760aea4f-576d-4a16-fe67-b769ee899fbe"
      },
      "execution_count": null,
      "outputs": [
        {
          "output_type": "stream",
          "name": "stdout",
          "text": [
            "inputs: torch.Size([4, 8]) tensor([[24, 43, 58,  5, 57,  1, 46, 43],\n",
            "        [44, 53, 56,  1, 58, 46, 39, 58],\n",
            "        [52, 58,  1, 58, 46, 39, 58,  1],\n",
            "        [25, 17, 27, 10,  0, 21,  1, 54]])\n",
            "input 0 is Let's he\n",
            "input 1 is for that\n",
            "input 2 is nt that \n",
            "input 3 is MEO:\n",
            "I p\n",
            "targets: torch.Size([4, 8])\n",
            "input 0 is et's hea\n",
            "input 1 is or that \n",
            "input 2 is t that h\n",
            "input 3 is EO:\n",
            "I pa\n"
          ]
        }
      ]
    },
    {
      "cell_type": "code",
      "source": [
        "for b in range(batch_size):\n",
        "  for t in range(block_size):\n",
        "    context = xb[b, :t+1]\n",
        "    target = yb[b,t]\n",
        "    print(f\"when input is {context.tolist()} the target: {target}\")\n",
        "    print(f'when input is {decoder(context.tolist())} the target: {decoder([target.item()])}')"
      ],
      "metadata": {
        "colab": {
          "base_uri": "https://localhost:8080/"
        },
        "id": "Pchu81ziUuiu",
        "outputId": "ce0aa79b-9a8e-4cd1-bb67-321b8016ced2"
      },
      "execution_count": null,
      "outputs": [
        {
          "output_type": "stream",
          "name": "stdout",
          "text": [
            "when input is [24] the target: 43\n",
            "when input is L the target: e\n",
            "when input is [24, 43] the target: 58\n",
            "when input is Le the target: t\n",
            "when input is [24, 43, 58] the target: 5\n",
            "when input is Let the target: '\n",
            "when input is [24, 43, 58, 5] the target: 57\n",
            "when input is Let' the target: s\n",
            "when input is [24, 43, 58, 5, 57] the target: 1\n",
            "when input is Let's the target:  \n",
            "when input is [24, 43, 58, 5, 57, 1] the target: 46\n",
            "when input is Let's  the target: h\n",
            "when input is [24, 43, 58, 5, 57, 1, 46] the target: 43\n",
            "when input is Let's h the target: e\n",
            "when input is [24, 43, 58, 5, 57, 1, 46, 43] the target: 39\n",
            "when input is Let's he the target: a\n",
            "when input is [44] the target: 53\n",
            "when input is f the target: o\n",
            "when input is [44, 53] the target: 56\n",
            "when input is fo the target: r\n",
            "when input is [44, 53, 56] the target: 1\n",
            "when input is for the target:  \n",
            "when input is [44, 53, 56, 1] the target: 58\n",
            "when input is for  the target: t\n",
            "when input is [44, 53, 56, 1, 58] the target: 46\n",
            "when input is for t the target: h\n",
            "when input is [44, 53, 56, 1, 58, 46] the target: 39\n",
            "when input is for th the target: a\n",
            "when input is [44, 53, 56, 1, 58, 46, 39] the target: 58\n",
            "when input is for tha the target: t\n",
            "when input is [44, 53, 56, 1, 58, 46, 39, 58] the target: 1\n",
            "when input is for that the target:  \n",
            "when input is [52] the target: 58\n",
            "when input is n the target: t\n",
            "when input is [52, 58] the target: 1\n",
            "when input is nt the target:  \n",
            "when input is [52, 58, 1] the target: 58\n",
            "when input is nt  the target: t\n",
            "when input is [52, 58, 1, 58] the target: 46\n",
            "when input is nt t the target: h\n",
            "when input is [52, 58, 1, 58, 46] the target: 39\n",
            "when input is nt th the target: a\n",
            "when input is [52, 58, 1, 58, 46, 39] the target: 58\n",
            "when input is nt tha the target: t\n",
            "when input is [52, 58, 1, 58, 46, 39, 58] the target: 1\n",
            "when input is nt that the target:  \n",
            "when input is [52, 58, 1, 58, 46, 39, 58, 1] the target: 46\n",
            "when input is nt that  the target: h\n",
            "when input is [25] the target: 17\n",
            "when input is M the target: E\n",
            "when input is [25, 17] the target: 27\n",
            "when input is ME the target: O\n",
            "when input is [25, 17, 27] the target: 10\n",
            "when input is MEO the target: :\n",
            "when input is [25, 17, 27, 10] the target: 0\n",
            "when input is MEO: the target: \n",
            "\n",
            "when input is [25, 17, 27, 10, 0] the target: 21\n",
            "when input is MEO:\n",
            " the target: I\n",
            "when input is [25, 17, 27, 10, 0, 21] the target: 1\n",
            "when input is MEO:\n",
            "I the target:  \n",
            "when input is [25, 17, 27, 10, 0, 21, 1] the target: 54\n",
            "when input is MEO:\n",
            "I  the target: p\n",
            "when input is [25, 17, 27, 10, 0, 21, 1, 54] the target: 39\n",
            "when input is MEO:\n",
            "I p the target: a\n"
          ]
        }
      ]
    },
    {
      "cell_type": "code",
      "source": [
        "#BigramLanguageModel\n",
        "\n",
        "import torch\n",
        "import torch.nn as nn\n",
        "from torch.nn import functional as F\n",
        "torch.manual_seed(1337)\n",
        "\n",
        "class BigramLanguageModel(nn.Module):\n",
        "\n",
        "  def __init__(self, vocabSize):\n",
        "    super().__init__()\n",
        "    self.token_embedding_table = nn.Embedding(vocabSize, vocabSize)\n",
        "\n",
        "  def forward(self, idx, targets):\n",
        "    logits = self.token_embedding_table(idx) # (B, T, C)\n",
        "\n",
        "    return logits\n",
        "\n",
        "m = BigramLanguageModel(vocabSize)"
      ],
      "metadata": {
        "id": "hqOGtQfpYrN1"
      },
      "execution_count": null,
      "outputs": []
    }
  ]
}